{
  "nbformat": 4,
  "nbformat_minor": 0,
  "metadata": {
    "colab": {
      "name": "MyCode.ipynb",
      "provenance": [],
      "toc_visible": true,
      "authorship_tag": "ABX9TyOT/BAQriNhhAKst+xtUEh3",
      "include_colab_link": true
    },
    "kernelspec": {
      "name": "python3",
      "display_name": "Python 3"
    },
    "language_info": {
      "name": "python"
    }
  },
  "cells": [
    {
      "cell_type": "markdown",
      "metadata": {
        "id": "view-in-github",
        "colab_type": "text"
      },
      "source": [
        "<a href=\"https://colab.research.google.com/github/SKYRONIGHT/SKYRONIGHT/blob/main/MyCode.ipynb\" target=\"_parent\"><img src=\"https://colab.research.google.com/assets/colab-badge.svg\" alt=\"Open In Colab\"/></a>"
      ]
    },
    {
      "cell_type": "code",
      "metadata": {
        "colab": {
          "base_uri": "https://localhost:8080/"
        },
        "id": "fgZ2Hgt6_x1E",
        "outputId": "484c1ad7-6607-42aa-e772-250b838dfada"
      },
      "source": [
        "import numpy as np\n",
        "# Max-Product Composition given by SKYRO\n",
        "def maxProduct(x, y):\n",
        "    z = []\n",
        "    for x1 in x:\n",
        "        for y1 in y.T:\n",
        "            z.append(max(np.multiply(x1, y1)))\n",
        "    return np.array(z).reshape((x.shape[0], y.shape[1]))\n",
        "\n",
        "r1 = np.array([[1, 0, .7], [.3, .2, 0], [0, .5, 1]])\n",
        "r2 = np.array([[.6, .6, 0], [0, .6, .1], [0, .1, 0]])\n",
        "\n",
        "print (\"R1oR2 => Max-Product :\\n\" + str(maxProduct(r1, r2)) + \"\\n\\n\")"
      ],
      "execution_count": null,
      "outputs": [
        {
          "output_type": "stream",
          "text": [
            "R1oR2 => Max-Product :\n",
            "[[0.6  0.6  0.  ]\n",
            " [0.18 0.18 0.02]\n",
            " [0.   0.3  0.05]]\n",
            "\n",
            "\n"
          ],
          "name": "stdout"
        }
      ]
    },
    {
      "cell_type": "code",
      "metadata": {
        "id": "zHNihf2waCNd"
      },
      "source": [
        "import socket\n",
        "\n",
        "hostname = input(\"Please enter the website url:\\n\")\n",
        "\n",
        "print(f\"The {hostname} IP Address is {socket.gethostbyname(hostname)}\")"
      ],
      "execution_count": null,
      "outputs": []
    }
  ]
}