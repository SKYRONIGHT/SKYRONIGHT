{
  "nbformat": 4,
  "nbformat_minor": 0,
  "metadata": {
    "colab": {
      "name": "MyCode.ipynb",
      "provenance": [],
      "authorship_tag": "ABX9TyPNbdQQ4dVAsCOh3i6m7UJo"
    },
    "kernelspec": {
      "name": "python3",
      "display_name": "Python 3"
    },
    "language_info": {
      "name": "python"
    }
  },
  "cells": [
    {
      "cell_type": "code",
      "metadata": {
        "id": "zHNihf2waCNd"
      },
      "source": [
        "import socket\n",
        "\n",
        "hostname = input(\"Please enter the website url:\\n\")\n",
        "\n",
        "print(f\"The {hostname} IP Address is {socket.gethostbyname(hostname)}\")"
      ],
      "execution_count": null,
      "outputs": []
    }
  ]
}